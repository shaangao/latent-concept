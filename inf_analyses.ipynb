{
 "cells": [
  {
   "cell_type": "code",
   "execution_count": 1,
   "metadata": {},
   "outputs": [],
   "source": [
    "import logging\n",
    "import math\n",
    "import os\n",
    "import sys\n",
    "from dataclasses import dataclass, field\n",
    "from typing import Optional\n",
    "from pathlib import Path\n",
    "import pandas as pd\n",
    "import numpy as np\n",
    "import itertools\n",
    "\n",
    "from datasets import load_dataset\n",
    "import torch\n",
    "\n",
    "import transformers\n",
    "from transformers import (\n",
    "    CONFIG_MAPPING,\n",
    "    MODEL_FOR_CAUSAL_LM_MAPPING,\n",
    "    AutoConfig,\n",
    "    AutoModelForCausalLM,\n",
    "    AutoTokenizer,\n",
    "    HfArgumentParser,\n",
    "    Trainer,\n",
    "    TrainingArguments,\n",
    "    default_data_collator,\n",
    "    set_seed,\n",
    ")\n",
    "from transformers.trainer_utils import get_last_checkpoint, is_main_process"
   ]
  },
  {
   "cell_type": "code",
   "execution_count": 2,
   "metadata": {},
   "outputs": [],
   "source": [
    "import util"
   ]
  },
  {
   "cell_type": "code",
   "execution_count": 3,
   "metadata": {},
   "outputs": [],
   "source": [
    "# set huggingface cache dir to prevent filling up home dir\n",
    "os.environ['HF_HOME'] = '/net/scratch/shangao/latent-concept/cache'"
   ]
  },
  {
   "cell_type": "code",
   "execution_count": 4,
   "metadata": {},
   "outputs": [
    {
     "name": "stdout",
     "output_type": "stream",
     "text": [
      "available devices: 1\n",
      "current device: 0\n",
      "device name: NVIDIA A100 80GB PCIe\n",
      "using: cuda\n"
     ]
    }
   ],
   "source": [
    "print(f'available devices: {torch.cuda.device_count()}')\n",
    "print(f'current device: {torch.cuda.current_device()}')\n",
    "print(f'device name: {torch.cuda.get_device_name()}')\n",
    "\n",
    "# set device\n",
    "device = torch.device('cuda' if torch.cuda.is_available() else 'cpu')\n",
    "print(\"using: \" + str(device))"
   ]
  },
  {
   "cell_type": "code",
   "execution_count": 5,
   "metadata": {},
   "outputs": [],
   "source": [
    "set_seed(1234)"
   ]
  },
  {
   "cell_type": "markdown",
   "metadata": {},
   "source": [
    "## load pretrained model"
   ]
  },
  {
   "cell_type": "code",
   "execution_count": 6,
   "metadata": {},
   "outputs": [],
   "source": [
    "n_events = 5\n",
    "model_name_or_path = '/net/scratch/shangao/latent-concept/outputs_small/pretrain/T5/checkpoint-155'\n",
    "# model_name_or_path = '/net/scratch/shangao/latent-concept/outputs_small/pretrain/rdn_T5/checkpoint-155'\n",
    "# model_name_or_path = 'gpt2'"
   ]
  },
  {
   "cell_type": "code",
   "execution_count": 7,
   "metadata": {},
   "outputs": [],
   "source": [
    "# model config\n",
    "# https://github.com/shaangao/incontext-learning/blob/84fab2141381001e33b5835e01f4fbf37f34a6a5/run_clm.py#L354\n",
    "config_kwargs = {\n",
    "    \"cache_dir\": None,\n",
    "    \"revision\": \"main\",\n",
    "    \"use_auth_token\": None,\n",
    "}\n",
    "# load from checkpoint\n",
    "config = AutoConfig.from_pretrained(model_name_or_path, **config_kwargs)"
   ]
  },
  {
   "cell_type": "code",
   "execution_count": 8,
   "metadata": {},
   "outputs": [],
   "source": [
    "# tokenizer config\n",
    "# https://github.com/shaangao/incontext-learning/blob/84fab2141381001e33b5835e01f4fbf37f34a6a5/run_clm.py#L367\n",
    "tokenizer_kwargs = {\n",
    "    \"cache_dir\": None,\n",
    "    \"use_fast\": True,\n",
    "    \"revision\": \"main\",\n",
    "    \"use_auth_token\": None,\n",
    "}\n",
    "tokenizer = AutoTokenizer.from_pretrained(model_name_or_path, **tokenizer_kwargs)"
   ]
  },
  {
   "cell_type": "code",
   "execution_count": 9,
   "metadata": {},
   "outputs": [],
   "source": [
    "# small_model\n",
    "# https://github.com/shaangao/incontext-learning/blob/84fab2141381001e33b5835e01f4fbf37f34a6a5/run_clm.py#L393\n",
    "# config.vocab_size = tokenizer.vocab_size\n",
    "config.vocab_size = len(tokenizer)  # len(tokenizer) = tokenizer.vocab_size + 1 due to <|endoftext|>\n",
    "config.n_layer = 4\n",
    "config.n_head = 12\n",
    "\n",
    "model = AutoModelForCausalLM.from_pretrained(\n",
    "    model_name_or_path,\n",
    "    from_tf=bool(\".ckpt\" in model_name_or_path),\n",
    "    config=config,\n",
    "    cache_dir=None,\n",
    "    revision=\"main\",\n",
    "    use_auth_token=None,\n",
    ").to(device)"
   ]
  },
  {
   "cell_type": "markdown",
   "metadata": {},
   "source": [
    "## load untrained model"
   ]
  },
  {
   "cell_type": "code",
   "execution_count": 26,
   "metadata": {},
   "outputs": [],
   "source": [
    "model_type = 'gpt2'\n",
    "n_events = 5"
   ]
  },
  {
   "cell_type": "code",
   "execution_count": 27,
   "metadata": {},
   "outputs": [],
   "source": [
    "# model config is needed for loading tokenizer from json\n",
    "# https://github.com/shaangao/incontext-learning/blob/84fab2141381001e33b5835e01f4fbf37f34a6a5/run_clm.py#L354\n",
    "config_kwargs = {\n",
    "    \"cache_dir\": None,\n",
    "    \"revision\": \"main\",\n",
    "    \"use_auth_token\": None,\n",
    "}\n",
    "config = CONFIG_MAPPING[model_type]()"
   ]
  },
  {
   "cell_type": "code",
   "execution_count": 28,
   "metadata": {},
   "outputs": [],
   "source": [
    "# https://github.com/shaangao/incontext-learning/blob/84fab2141381001e33b5835e01f4fbf37f34a6a5/run_clm.py#L367\n",
    "tokenizer_kwargs = {\n",
    "    \"cache_dir\": None,\n",
    "    \"use_fast\": True,\n",
    "    \"revision\": \"main\",\n",
    "    \"use_auth_token\": None,\n",
    "}\n",
    "# config = AutoConfig.from_pretrained('gpt2') \n",
    "# tokenizer = AutoTokenizer.from_pretrained('gpt2', tokenizer_file=\"/net/scratch/shangao/latent-concept/data/tokenizer.json\", config=AutoConfig.from_pretrained('gpt2'), **tokenizer_kwargs)\n",
    "\n",
    "# tokenizer = AutoTokenizer.from_pretrained(model_type, tokenizer_file=\"/net/scratch/shangao/latent-concept/data/tokenizer.json\", config=config, **tokenizer_kwargs)\n",
    "tokenizer = AutoTokenizer.from_pretrained(model_type, tokenizer_file=f\"/net/scratch/shangao/latent-concept/data/tokenizer_{n_events}.json\", config=config, **tokenizer_kwargs)\n",
    "\n",
    "tokenizer.pad_token = tokenizer.eos_token"
   ]
  },
  {
   "cell_type": "code",
   "execution_count": 29,
   "metadata": {},
   "outputs": [],
   "source": [
    "# small_model\n",
    "# https://github.com/shaangao/incontext-learning/blob/84fab2141381001e33b5835e01f4fbf37f34a6a5/run_clm.py#L393\n",
    "config.vocab_size = tokenizer.vocab_size\n",
    "config.n_layer = 4\n",
    "config.n_head = 12"
   ]
  },
  {
   "cell_type": "code",
   "execution_count": 30,
   "metadata": {},
   "outputs": [
    {
     "name": "stderr",
     "output_type": "stream",
     "text": [
      "The new embeddings will be initialized from a multivariate normal distribution that has old embeddings' mean and covariance. As described in this article: https://nlp.stanford.edu/~johnhew/vocab-expansion.html. To disable this, use `mean_resizing=False`\n"
     ]
    },
    {
     "data": {
      "text/plain": [
       "Embedding(7, 768)"
      ]
     },
     "execution_count": 30,
     "metadata": {},
     "output_type": "execute_result"
    }
   ],
   "source": [
    "# train a new model from scratch\n",
    "# https://github.com/shaangao/incontext-learning/blob/84fab2141381001e33b5835e01f4fbf37f34a6a5/run_clm.py#L409\n",
    "model_raw = AutoModelForCausalLM.from_config(config).to(device)\n",
    "model_raw.resize_token_embeddings(len(tokenizer))"
   ]
  },
  {
   "cell_type": "markdown",
   "metadata": {},
   "source": [
    "## datasets"
   ]
  },
  {
   "cell_type": "code",
   "execution_count": 280,
   "metadata": {},
   "outputs": [],
   "source": [
    "# probs_test_gt = util.normalize([3, 1, 1], ord=1)\n",
    "# probs_test_gt"
   ]
  },
  {
   "cell_type": "code",
   "execution_count": 124,
   "metadata": {},
   "outputs": [],
   "source": [
    "prompt_len = 50"
   ]
  },
  {
   "cell_type": "code",
   "execution_count": 125,
   "metadata": {},
   "outputs": [
    {
     "data": {
      "application/vnd.jupyter.widget-view+json": {
       "model_id": "64321676a1304eb1a522440c00770a62",
       "version_major": 2,
       "version_minor": 0
      },
      "text/plain": [
       "Generating validation split: 0 examples [00:00, ? examples/s]"
      ]
     },
     "metadata": {},
     "output_type": "display_data"
    }
   ],
   "source": [
    "# load\n",
    "# https://github.com/shaangao/incontext-learning/blob/84fab2141381001e33b5835e01f4fbf37f34a6a5/run_clm.py#L332\n",
    "\n",
    "data_files = {}\n",
    "# data_files[\"validation\"] = f'/net/scratch/shangao/latent-concept/data/agg_val_prompts_T{n_events}_N500_L{prompt_len}_E0.3.json'\n",
    "# data_files[\"validation\"] = f'/net/scratch/shangao/latent-concept/data/agg311_val_prompts_noend_T{n_events}_N500_L{prompt_len}_E0.3.json'\n",
    "# data_files[\"validation\"] = f'/net/scratch/shangao/latent-concept/data/unseen1s_val_prompts_noend_T{n_events}_N500_L{prompt_len}_E0.3.json'\n",
    "# data_files[\"validation\"] = f'/net/scratch/shangao/latent-concept/data/agg111_val_prompts_noend_T{n_events}_N500_L{prompt_len}_E0.3.json'\n",
    "# data_files[\"validation\"] = f'/net/scratch/shangao/latent-concept/data/agg100_val_prompts_noend_T{n_events}_N500_L{prompt_len}_E0.3.json'\n",
    "# data_files[\"validation\"] = f'/net/scratch/shangao/latent-concept/data/agg03503320318_val_prompts_noend_T{n_events}_N500_L{prompt_len}_E0.3.json'\n",
    "data_files[\"validation\"] = f'/net/scratch/shangao/latent-concept/data/rdn_val_prompts_noend_T{n_events}_N500_L{prompt_len}_E0.3.json'\n",
    "\n",
    "extension = (\n",
    "    list(data_files.values())[0].split(\".\")[-1]\n",
    ")\n",
    "if extension == \"txt\":\n",
    "    extension = \"text\"\n",
    "\n",
    "datasets = load_dataset(extension, data_files=data_files)"
   ]
  },
  {
   "cell_type": "code",
   "execution_count": 126,
   "metadata": {},
   "outputs": [
    {
     "data": {
      "application/vnd.jupyter.widget-view+json": {
       "model_id": "7a210beb2254438a93da45e7193fd011",
       "version_major": 2,
       "version_minor": 0
      },
      "text/plain": [
       "Map:   0%|          | 0/409 [00:00<?, ? examples/s]"
      ]
     },
     "metadata": {},
     "output_type": "display_data"
    }
   ],
   "source": [
    "# tokenize\n",
    "# https://github.com/shaangao/incontext-learning/blob/84fab2141381001e33b5835e01f4fbf37f34a6a5/run_clm.py#L433\n",
    "\n",
    "def tokenize_function(examples):\n",
    "    return tokenizer(examples['text'])\n",
    "\n",
    "column_names = datasets[\"validation\"].column_names\n",
    "column_names.remove('labels')\n",
    "tokenized_datasets = datasets.map(\n",
    "    tokenize_function,\n",
    "    batched=True,\n",
    "    num_proc=1,\n",
    "    remove_columns=column_names,\n",
    "    load_from_cache_file=False,\n",
    ")"
   ]
  },
  {
   "cell_type": "code",
   "execution_count": 383,
   "metadata": {},
   "outputs": [],
   "source": [
    "# # set block_size\n",
    "# # https://github.com/shaangao/incontext-learning/blob/84fab2141381001e33b5835e01f4fbf37f34a6a5/run_clm.py#L444\n",
    "# block_size = min(1024, tokenizer.model_max_length)"
   ]
  },
  {
   "cell_type": "code",
   "execution_count": null,
   "metadata": {},
   "outputs": [],
   "source": [
    "# # https://github.com/shaangao/incontext-learning/blob/84fab2141381001e33b5835e01f4fbf37f34a6a5/run_clm.py#L461\n",
    "# # Main data processing function that will concatenate all texts from our dataset and generate chunks of block_size.\n",
    "# def group_texts(examples):\n",
    "#     # Concatenate all texts.\n",
    "#     concatenated_examples = {k: sum(examples[k], []) for k in examples.keys()}\n",
    "#     total_length = len(concatenated_examples[list(examples.keys())[0]])\n",
    "#     # We drop the small remainder, we could add padding if the model supported it instead of this drop, you can\n",
    "#     # customize this part to your needs.\n",
    "#     total_length = (total_length // block_size) * block_size\n",
    "#     # Split by chunks of max_len.\n",
    "#     result = {\n",
    "#         k: [t[i : i + block_size] for i in range(0, total_length, block_size)]\n",
    "#         for k, t in concatenated_examples.items()\n",
    "#     }\n",
    "#     result[\"labels\"] = result[\"input_ids\"].copy()\n",
    "#     return result\n",
    "\n",
    "# # Note that with `batched=True`, this map processes 1,000 texts together, so group_texts throws away a remainder for each of those groups of 1,000 texts. You can adjust that batch_size here but a higher value might be slower to preprocess.\n",
    "# # To speed up this part, we use multiprocessing. See the documentation of the map method for more information: https://huggingface.co/docs/datasets/package_reference/main_classes.html#datasets.Dataset.map\n",
    "# lm_datasets = tokenized_datasets.map(\n",
    "#     group_texts,\n",
    "#     batched=True,\n",
    "#     num_proc=1,\n",
    "#     load_from_cache_file=False,\n",
    "# )"
   ]
  },
  {
   "cell_type": "markdown",
   "metadata": {},
   "source": [
    "## trainer"
   ]
  },
  {
   "cell_type": "code",
   "execution_count": 52,
   "metadata": {},
   "outputs": [],
   "source": [
    "training_args = TrainingArguments(\n",
    "    do_train=False,\n",
    "    overwrite_output_dir=False,\n",
    "    learning_rate=8e-4,\n",
    "    num_train_epochs=5,\n",
    "    # output_dir=f'/net/scratch/shangao/latent-concept/outputs_small/test_agg/T{n_events}',\n",
    "    output_dir=f'/net/scratch/shangao/latent-concept/outputs_small/test_agg/rdn_T5',\n",
    "    logging_steps=1,\n",
    "    save_total_limit=4,\n",
    "    eval_strategy='steps',\n",
    "    # eval_strategy='epoch',\n",
    "    save_steps=1500,\n",
    "    warmup_steps=1000,\n",
    "    lr_scheduler_type='linear',\n",
    "    per_device_train_batch_size=8,  # 2\n",
    "    gradient_accumulation_steps=4\n",
    ")"
   ]
  },
  {
   "cell_type": "code",
   "execution_count": 53,
   "metadata": {},
   "outputs": [],
   "source": [
    "# https://github.com/shaangao/incontext-learning/blob/84fab2141381001e33b5835e01f4fbf37f34a6a5/run_clm.py#L494\n",
    "trainer = Trainer(\n",
    "    model=model,\n",
    "    # model=model_raw,\n",
    "    args=training_args,\n",
    "    # train_dataset=lm_datasets[\"train\"],\n",
    "    eval_dataset=lm_datasets[\"validation\"],\n",
    "    processing_class=tokenizer,\n",
    "    # Data collator will default to DataCollatorWithPadding, so we change it.\n",
    "    data_collator=default_data_collator,\n",
    ")"
   ]
  },
  {
   "cell_type": "code",
   "execution_count": 55,
   "metadata": {},
   "outputs": [
    {
     "name": "stdout",
     "output_type": "stream",
     "text": [
      "***** eval metrics *****\n",
      "  perplexity = 5.1489\n",
      "***** eval metrics *****\n",
      "  eval_loss                   =     1.6388\n",
      "  eval_model_preparation_time =     0.0008\n",
      "  eval_runtime                = 0:00:00.05\n",
      "  eval_samples_per_second     =    174.453\n",
      "  eval_steps_per_second       =     38.767\n"
     ]
    }
   ],
   "source": [
    "logger = logging.getLogger(__name__)\n",
    "results = {}\n",
    "\n",
    "logger.info(\"*** Evaluate ***\")\n",
    "eval_output = trainer.evaluate()\n",
    "\n",
    "perplexity = math.exp(eval_output[\"eval_loss\"])\n",
    "results[\"perplexity\"] = perplexity\n",
    "trainer.log_metrics(\"eval\", results)\n",
    "# trainer.save_metrics(\"eval\", results)\n",
    "\n",
    "trainer.log_metrics(\"eval\", eval_output)\n",
    "trainer.save_metrics(\"eval\", eval_output)\n",
    "trainer.save_state()"
   ]
  },
  {
   "cell_type": "markdown",
   "metadata": {},
   "source": [
    "## discrete gt concepts"
   ]
  },
  {
   "cell_type": "code",
   "execution_count": 428,
   "metadata": {},
   "outputs": [
    {
     "data": {
      "text/plain": [
       "array([[-0.03374935, -0.04000997, -0.03310606, ...,  0.01313341,\n",
       "        -0.00937015, -0.01341357],\n",
       "       [-0.00878116,  0.02785807,  0.03293291, ..., -0.02835299,\n",
       "         0.03046143, -0.01993725],\n",
       "       [-0.01284191, -0.00288289, -0.02557824, ...,  0.00135371,\n",
       "        -0.01832302,  0.00940529],\n",
       "       ...,\n",
       "       [-0.01030629, -0.01018223,  0.01586098, ...,  0.01372947,\n",
       "         0.01700575, -0.02273737],\n",
       "       [ 0.00723821, -0.01609349,  0.05417285, ...,  0.02316959,\n",
       "         0.01102453, -0.0232906 ],\n",
       "       [-0.00586121, -0.00326788,  0.00942897, ...,  0.00531936,\n",
       "         0.00112016, -0.01277776]], dtype=float32)"
      ]
     },
     "execution_count": 428,
     "metadata": {},
     "output_type": "execute_result"
    }
   ],
   "source": [
    "# RSA: \n",
    "# 1. emb <> concept_pretrain_gt\n",
    "# 2. emb sim pattern change with concept_pretrain_gt\n",
    "\n",
    "emb = model.get_input_embeddings().weight.detach().cpu().numpy()\n",
    "emb"
   ]
  },
  {
   "cell_type": "code",
   "execution_count": 429,
   "metadata": {},
   "outputs": [
    {
     "data": {
      "text/plain": [
       "4"
      ]
     },
     "execution_count": 429,
     "metadata": {},
     "output_type": "execute_result"
    }
   ],
   "source": [
    "tokenizer.convert_tokens_to_ids('d')"
   ]
  },
  {
   "cell_type": "code",
   "execution_count": 430,
   "metadata": {},
   "outputs": [
    {
     "data": {
      "text/plain": [
       "(4, 768)"
      ]
     },
     "execution_count": 430,
     "metadata": {},
     "output_type": "execute_result"
    }
   ],
   "source": [
    "emb = emb[1:n_events]\n",
    "emb.shape"
   ]
  },
  {
   "cell_type": "code",
   "execution_count": 433,
   "metadata": {},
   "outputs": [
    {
     "data": {
      "text/plain": [
       "array([[ 1.        , -0.04398745, -0.04511625,  0.00373317],\n",
       "       [-0.04398745,  1.        , -0.049116  , -0.02302997],\n",
       "       [-0.04511625, -0.049116  ,  1.        , -0.00102907],\n",
       "       [ 0.00373317, -0.02302997, -0.00102907,  1.        ]])"
      ]
     },
     "execution_count": 433,
     "metadata": {},
     "output_type": "execute_result"
    }
   ],
   "source": [
    "np.corrcoef(emb)"
   ]
  },
  {
   "cell_type": "code",
   "execution_count": 432,
   "metadata": {},
   "outputs": [
    {
     "data": {
      "text/plain": [
       "<Axes: >"
      ]
     },
     "execution_count": 432,
     "metadata": {},
     "output_type": "execute_result"
    },
    {
     "data": {
      "image/png": "[encoded data removed]",
      "text/plain": [
       "<Figure size 432x288 with 2 Axes>"
      ]
     },
     "metadata": {
      "needs_background": "light"
     },
     "output_type": "display_data"
    }
   ],
   "source": [
    "import seaborn as sns\n",
    "sns.heatmap(np.corrcoef(emb))"
   ]
  },
  {
   "cell_type": "markdown",
   "metadata": {},
   "source": [
    "## aggregate concepts"
   ]
  },
  {
   "cell_type": "code",
   "execution_count": 13,
   "metadata": {},
   "outputs": [
    {
     "name": "stdout",
     "output_type": "stream",
     "text": [
      "{0: [0], 1: [1], 2: [2], 3: [3], 4: [4]}\n",
      "[0. 1. 2. 3. 4.]\n"
     ]
    }
   ],
   "source": [
    "# event2state\n",
    "import pickle\n",
    "with open(f\"/net/scratch/shangao/latent-concept/data/state2event_T{n_events}.pkl\", \"rb\") as f:\n",
    "    state2event = pickle.load(f)\n",
    "print(state2event)\n",
    "\n",
    "event2state = np.full(n_events, np.nan)\n",
    "for state, events in state2event.items():\n",
    "    event2state[events] = state\n",
    "print(event2state)"
   ]
  },
  {
   "cell_type": "code",
   "execution_count": 127,
   "metadata": {},
   "outputs": [
    {
     "name": "stdout",
     "output_type": "stream",
     "text": [
      "50\n"
     ]
    }
   ],
   "source": [
    "# eval inf\n",
    "# https://github.com/shaangao/incontext-learning/blob/84fab2141381001e33b5835e01f4fbf37f34a6a5/run_clm.py#L184\n",
    "\n",
    "batch = torch.tensor(tokenized_datasets['validation']['input_ids']).to(device)\n",
    "length = batch.shape[1]\n",
    "print(length)\n",
    "\n",
    "model.eval()\n",
    "with torch.no_grad():\n",
    "    out = model.generate(\n",
    "        input_ids=batch,\n",
    "        # max_length=21,\n",
    "        max_new_tokens=1,\n",
    "        temperature=0.0,\n",
    "        do_sample=False,\n",
    "        pad_token_id=tokenizer.eos_token_id,\n",
    "        eos_token_id=tokenizer.eos_token_id\n",
    "    )"
   ]
  },
  {
   "cell_type": "code",
   "execution_count": 128,
   "metadata": {},
   "outputs": [],
   "source": [
    "event_emb_pred = out[:, length]\n",
    "# event_emb_pred"
   ]
  },
  {
   "cell_type": "code",
   "execution_count": 129,
   "metadata": {},
   "outputs": [
    {
     "data": {
      "text/plain": [
       "array([2., 4., 1., 2., 2., 4., 2., 3., 2., 4., 3., 2., 4., 2., 1., 2., 1.,\n",
       "       2., 2., 2., 4., 1., 1., 4., 2., 4., 1., 1., 1., 1., 3., 2., 1., 2.,\n",
       "       4., 3., 3., 1., 4., 1., 4., 1., 4., 2., 1., 4., 3., 2., 4., 4., 1.,\n",
       "       2., 4., 3., 2., 1., 1., 2., 4., 4., 4., 4., 4., 2., 1., 2., 4., 3.,\n",
       "       3., 2., 3., 3., 2., 1., 2., 2., 4., 1., 4., 4., 4., 2., 1., 2., 2.,\n",
       "       1., 1., 4., 1., 2., 1., 3., 2., 1., 2., 3., 1., 2., 2., 1., 2., 2.,\n",
       "       2., 2., 1., 2., 1., 2., 1., 4., 1., 2., 4., 1., 1., 4., 2., 2., 3.,\n",
       "       2., 4., 2., 2., 3., 2., 4., 4., 2., 3., 1., 3., 4., 2., 2., 1., 4.,\n",
       "       2., 4., 2., 1., 3., 3., 3., 2., 3., 4., 4., 1., 1., 1., 3., 1., 3.,\n",
       "       3., 1., 2., 2., 4., 1., 2., 3., 4., 4., 2., 2., 2., 2., 2., 3., 4.,\n",
       "       4., 4., 4., 4., 3., 3., 1., 3., 1., 2., 1., 2., 4., 4., 2., 1., 4.,\n",
       "       4., 2., 4., 2., 3., 4., 2., 1., 4., 2., 2., 4., 3., 1., 2., 3., 2.,\n",
       "       4., 2., 2., 4., 2., 3., 2., 2., 3., 3., 2., 2., 4., 1., 2., 2., 1.,\n",
       "       1., 1., 2., 2., 2., 2., 1., 2., 4., 4., 2., 1., 2., 1., 1., 2., 1.,\n",
       "       1., 4., 2., 2., 4., 4., 2., 1., 2., 2., 1., 1., 4., 4., 4., 2., 4.,\n",
       "       3., 4., 2., 4., 1., 2., 4., 2., 1., 4., 1., 4., 3., 3., 1., 2., 2.,\n",
       "       3., 2., 4., 4., 2., 1., 3., 2., 2., 3., 2., 4., 2., 3., 2., 1., 2.,\n",
       "       4., 4., 4., 4., 2., 2., 2., 3., 4., 3., 3., 4., 3., 3., 1., 1., 3.,\n",
       "       3., 4., 2., 2., 1., 2., 1., 3., 1., 2., 4., 3., 1., 2., 2., 3., 4.,\n",
       "       1., 2., 3., 4., 1., 2., 2., 4., 2., 2., 3., 3., 2., 2., 1., 4., 1.,\n",
       "       1., 1., 4., 1., 4., 4., 2., 4., 1., 2., 2., 2., 1., 2., 2., 2., 4.,\n",
       "       4., 2., 4., 4., 4., 4., 4., 2., 1., 2., 4., 4., 3., 4., 2., 2., 1.,\n",
       "       1., 1., 2., 1., 2., 2., 2., 3., 4., 2., 2., 1., 4., 4., 2., 2., 1.,\n",
       "       3., 4., 4., 4., 4., 4., 2., 2., 4., 2., 2., 2., 2., 3., 4., 4., 4.,\n",
       "       4.])"
      ]
     },
     "execution_count": 129,
     "metadata": {},
     "output_type": "execute_result"
    }
   ],
   "source": [
    "# since event idx is the same as event emb idx, we directly use event emb idx as event idx\n",
    "state_pred = event2state[event_emb_pred.detach().cpu().numpy()]\n",
    "state_pred"
   ]
  },
  {
   "cell_type": "code",
   "execution_count": 130,
   "metadata": {},
   "outputs": [
    {
     "data": {
      "text/plain": [
       "0.24938875305623473"
      ]
     },
     "execution_count": 130,
     "metadata": {},
     "output_type": "execute_result"
    }
   ],
   "source": [
    "state_gt = tokenized_datasets['validation']['labels']\n",
    "\n",
    "accuracy = sum(state_pred == state_gt) / len(state_gt)\n",
    "accuracy"
   ]
  },
  {
   "cell_type": "code",
   "execution_count": 131,
   "metadata": {},
   "outputs": [
    {
     "data": {
      "text/plain": [
       "102"
      ]
     },
     "execution_count": 131,
     "metadata": {},
     "output_type": "execute_result"
    }
   ],
   "source": [
    "sum(state_pred == state_gt)"
   ]
  },
  {
   "cell_type": "markdown",
   "metadata": {},
   "source": [
    "## plots"
   ]
  },
  {
   "cell_type": "code",
   "execution_count": 148,
   "metadata": {},
   "outputs": [
    {
     "data": {
      "image/png": "[encoded data removed]",
      "text/plain": [
       "<Figure size 1080x1080 with 4 Axes>"
      ]
     },
     "metadata": {
      "needs_background": "light"
     },
     "output_type": "display_data"
    }
   ],
   "source": [
    "import matplotlib.pyplot as plt\n",
    "\n",
    "fig, axs = plt.subplots(2, 2, figsize=(15, 15), sharex=True, sharey=True)\n",
    "\n",
    "\n",
    "axs[0,0].plot([2, 5, 10, 20, 50], [0.946, 0.952, 0.958, 0.974, 0.966], marker='.', linestyle='-', color='b', label=f'concept1', linewidth=.5)\n",
    "axs[0,0].set_title('Individual Seen Concepts')\n",
    "# axs[0,0].set_xlabel('Time Steps')\n",
    "# axs[0,0].set_ylabel('Convergence')\n",
    "axs[0,0].set_ylim(0, 1)\n",
    "axs[0,0].legend()\n",
    "\n",
    "\n",
    "axs[0,1].plot([2, 5, 10, 20, 50], [0.698, 0.534, 0.448, 0.368, 0.354], marker='.', linestyle='-', color='b', label=f'3:1:1', linewidth=.5)\n",
    "axs[0,1].plot([2, 5, 10, 20, 50], [0.678, 0.54, 0.534, 0.522, 0.46], marker='.', linestyle='-', color='salmon', label=f'1:1:1', linewidth=.5)\n",
    "axs[0,1].set_title('Aggregated Seen Concepts')\n",
    "# axs[0,1].set_xlabel('Time Steps')\n",
    "# axs[0,1].set_ylabel('Convergence')\n",
    "# axs[0,1].set_ylim(0, 1)\n",
    "axs[0,1].legend()\n",
    "\n",
    "\n",
    "\n",
    "axs[1,0].plot([2, 5, 10, 20, 50], [0.634, 0.322, 0.128, 0.042, 0.022], marker='.', linestyle='-', color='b', label=f'unseen concept 1', linewidth=.5)\n",
    "axs[1,0].plot([2, 5, 10, 20, 50], [0.426, 0.504, 0.434, 0.34, 0.292], marker='.', linestyle='-', color='salmon', label=f'unseen concept 2', linewidth=.5)\n",
    "axs[1,0].set_title('Unseen Concepts')\n",
    "# axs[0,1].set_xlabel('Time Steps')\n",
    "# axs[0,1].set_ylabel('Convergence')\n",
    "# axs[0,1].set_ylim(0, 1)\n",
    "axs[1,0].legend()\n",
    "\n",
    "axs[1,1].plot([2, 5, 10, 20, 50], [0.2733990147783251, 0.22938144329896906, 0.23, 0.23774509803921567, 0.24938875305623473], marker='.', linestyle='-', color='b', label=f'random obs', linewidth=.5)\n",
    "axs[1,1].set_title('Random Observations')\n",
    "# axs[0,1].set_xlabel('Time Steps')\n",
    "# axs[0,1].set_ylabel('Convergence')\n",
    "# axs[0,1].set_ylim(0, 1)\n",
    "axs[1,1].legend()\n",
    "\n",
    "\n",
    "fig.supxlabel('Time Steps')\n",
    "fig.supylabel('Accuracy')\n",
    "plt.tight_layout()\n",
    "plt.show()"
   ]
  },
  {
   "cell_type": "code",
   "execution_count": null,
   "metadata": {},
   "outputs": [],
   "source": []
  }
 ],
 "metadata": {
  "kernelspec": {
   "display_name": "latents",
   "language": "python",
   "name": "python3"
  },
  "language_info": {
   "codemirror_mode": {
    "name": "ipython",
    "version": 3
   },
   "file_extension": ".py",
   "mimetype": "text/x-python",
   "name": "python",
   "nbconvert_exporter": "python",
   "pygments_lexer": "ipython3",
   "version": "3.8.5"
  }
 },
 "nbformat": 4,
 "nbformat_minor": 2
}
