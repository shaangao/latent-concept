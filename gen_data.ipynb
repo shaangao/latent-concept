{
 "cells": [
  {
   "cell_type": "markdown",
   "metadata": {},
   "source": [
    "- simulated data\n",
    "- transformer + dataset construction\n",
    "- pretrain\n",
    "\n",
    "- analyses"
   ]
  },
  {
   "cell_type": "code",
   "execution_count": 3,
   "metadata": {},
   "outputs": [],
   "source": [
    "from string import ascii_lowercase\n",
    "\n",
    "from itertools import permutations\n",
    "import numpy as np\n",
    "import pandas as pd\n",
    "from tqdm import tqdm\n",
    "import json\n",
    "\n",
    "import transformers\n",
    "from transformers import (\n",
    "    # CONFIG_MAPPING,\n",
    "    # MODEL_FOR_CAUSAL_LM_MAPPING,\n",
    "    # AutoConfig,\n",
    "    # AutoModelForCausalLM,\n",
    "    # AutoTokenizer,\n",
    "    # HfArgumentParser,\n",
    "    # Trainer,\n",
    "    # TrainingArguments,\n",
    "    # default_data_collator,\n",
    "    set_seed,\n",
    ")"
   ]
  },
  {
   "cell_type": "code",
   "execution_count": 4,
   "metadata": {},
   "outputs": [],
   "source": [
    "import util"
   ]
  },
  {
   "cell_type": "code",
   "execution_count": 5,
   "metadata": {},
   "outputs": [],
   "source": [
    "set_seed(1234)"
   ]
  },
  {
   "cell_type": "markdown",
   "metadata": {},
   "source": [
    "## concepts"
   ]
  },
  {
   "cell_type": "code",
   "execution_count": 40,
   "metadata": {},
   "outputs": [],
   "source": [
    "# mixture of multually exclusive and independent latent concepts\n",
    "# symmatrical matrices\n",
    "\n",
    "concept1 = np.array([   # positivity bias\n",
    "    [1, 0, 1, 1],  # intention: pos\n",
    "    [0, 0, 0, 0],  # intention: neg\n",
    "    [1, 0, 1, 0],  # result: pos\n",
    "    [1, 0, 0, 1]   # result: neg\n",
    "])\n",
    "\n",
    "concept2 = np.array([   # swing\n",
    "    [1, 1, 1, 0],\n",
    "    [1, 1, 0, 1],\n",
    "    [1, 0, 1, 1],\n",
    "    [0, 1, 1, 1]\n",
    "])\n",
    "\n",
    "concept3 = np.array([   # negativity bias\n",
    "    [0, 0, 0, 0],\n",
    "    [0, 1, 1, 1],\n",
    "    [0, 1, 1, 0],\n",
    "    [0, 1, 0, 1]\n",
    "])\n",
    "\n",
    "# concept4 = np.array([   # negativity bias\n",
    "#     [0, 0, 0, 0],\n",
    "#     [0, 1, 1, 1],\n",
    "#     [0, 1, 1, 0],\n",
    "#     [0, 1, 0, 1]\n",
    "# ])\n",
    "\n",
    "concepts = [concept1, concept2, concept3]"
   ]
  },
  {
   "cell_type": "code",
   "execution_count": 41,
   "metadata": {},
   "outputs": [
    {
     "name": "stdout",
     "output_type": "stream",
     "text": [
      "[0.33333333 0.33333333 0.33333333]\n",
      "[0.33333333 0.33333333 0.33333333]\n"
     ]
    }
   ],
   "source": [
    "# training data gt (TODO: does the model capture this prob distr and use it as prior during inf?)\n",
    "# do not mix concepts when generating training data?\n",
    "probs_train_gt = util.normalize([1, 1, 1], ord=1)\n",
    "print(probs_train_gt)\n",
    "\n",
    "# testing data gt\n",
    "probs_test_gt = util.normalize([1, 1, 1], ord=1)\n",
    "# probs_test_gt = util.normalize([3, 1, 1], ord=1)\n",
    "print(probs_test_gt)"
   ]
  },
  {
   "cell_type": "code",
   "execution_count": 77,
   "metadata": {},
   "outputs": [
    {
     "data": {
      "text/plain": [
       "array([[1, 1, 1, 1],\n",
       "       [1, 1, 1, 1],\n",
       "       [1, 1, 1, 1],\n",
       "       [1, 1, 1, 1]])"
      ]
     },
     "execution_count": 77,
     "metadata": {},
     "output_type": "execute_result"
    }
   ],
   "source": [
    "# aggregated gt concept\n",
    "\n",
    "concept_test_gt = np.array([\n",
    "    [1, 1, 1, 1],\n",
    "    [1, 1, 1, 1],\n",
    "    [1, 1, 1, 1],\n",
    "    [1, 1, 1, 1]\n",
    "])\n",
    "\n",
    "# concept_test_gt = np.array([\n",
    "#     [1, 0, 1, 0],\n",
    "#     [0, 1, 1, 0],\n",
    "#     [1, 1, 1, 0],\n",
    "#     [0, 0, 0, 0]\n",
    "# ])\n",
    "\n",
    "# concept_test_gt = sum(prob * concept for prob, concept in zip(probs_test_gt, concepts))\n",
    "concept_test_gt"
   ]
  },
  {
   "cell_type": "code",
   "execution_count": 231,
   "metadata": {},
   "outputs": [
    {
     "data": {
      "text/plain": [
       "<Axes: >"
      ]
     },
     "execution_count": 231,
     "metadata": {},
     "output_type": "execute_result"
    },
    {
     "data": {
      "image/png": "[encoded data removed]",
      "text/plain": [
       "<Figure size 432x288 with 2 Axes>"
      ]
     },
     "metadata": {
      "needs_background": "light"
     },
     "output_type": "display_data"
    }
   ],
   "source": [
    "import seaborn as sns\n",
    "\n",
    "sns.heatmap(concept_test_gt)"
   ]
  },
  {
   "cell_type": "code",
   "execution_count": 204,
   "metadata": {},
   "outputs": [
    {
     "data": {
      "text/plain": [
       "<Axes: >"
      ]
     },
     "execution_count": 204,
     "metadata": {},
     "output_type": "execute_result"
    },
    {
     "data": {
      "image/png": "[encoded data removed]",
      "text/plain": [
       "<Figure size 432x288 with 2 Axes>"
      ]
     },
     "metadata": {
      "needs_background": "light"
     },
     "output_type": "display_data"
    }
   ],
   "source": [
    "sns.heatmap(sum(prob * concept for prob, concept in zip(util.normalize([1, 1, 1], ord=1), concepts)))"
   ]
  },
  {
   "cell_type": "code",
   "execution_count": 198,
   "metadata": {},
   "outputs": [
    {
     "data": {
      "text/plain": [
       "<Axes: >"
      ]
     },
     "execution_count": 198,
     "metadata": {},
     "output_type": "execute_result"
    },
    {
     "data": {
      "image/png": "[encoded data removed]",
      "text/plain": [
       "<Figure size 432x288 with 2 Axes>"
      ]
     },
     "metadata": {
      "needs_background": "light"
     },
     "output_type": "display_data"
    }
   ],
   "source": [
    "sns.heatmap(concept1)"
   ]
  },
  {
   "cell_type": "code",
   "execution_count": 200,
   "metadata": {},
   "outputs": [
    {
     "data": {
      "text/plain": [
       "<Axes: >"
      ]
     },
     "execution_count": 200,
     "metadata": {},
     "output_type": "execute_result"
    },
    {
     "data": {
      "image/png": "[encoded data removed]",
      "text/plain": [
       "<Figure size 432x288 with 2 Axes>"
      ]
     },
     "metadata": {
      "needs_background": "light"
     },
     "output_type": "display_data"
    }
   ],
   "source": [
    "sns.heatmap(concept2)"
   ]
  },
  {
   "cell_type": "code",
   "execution_count": 201,
   "metadata": {},
   "outputs": [
    {
     "data": {
      "text/plain": [
       "<Axes: >"
      ]
     },
     "execution_count": 201,
     "metadata": {},
     "output_type": "execute_result"
    },
    {
     "data": {
      "image/png": "[encoded data removed]",
      "text/plain": [
       "<Figure size 432x288 with 2 Axes>"
      ]
     },
     "metadata": {
      "needs_background": "light"
     },
     "output_type": "display_data"
    }
   ],
   "source": [
    "sns.heatmap(concept3)"
   ]
  },
  {
   "cell_type": "markdown",
   "metadata": {},
   "source": [
    "## event vocab"
   ]
  },
  {
   "cell_type": "code",
   "execution_count": 48,
   "metadata": {},
   "outputs": [],
   "source": [
    "n_states = concepts[0].shape[0] + 1  # n_states includes end state (always 0)\n",
    "n_events = 5  # n_events includes end event (\"/\")"
   ]
  },
  {
   "cell_type": "code",
   "execution_count": 49,
   "metadata": {},
   "outputs": [],
   "source": [
    "def gen_state2event(n_states, n_events):\n",
    "\n",
    "    # n_states includes end state (always 0)\n",
    "    # n_events includes end event (\"/\")\n",
    "\n",
    "    state2event = {i:[] for i in range(n_states)}\n",
    "\n",
    "    # state 0 (end) always instantiates as event 0 (\"/\")\n",
    "    state2event[0] = [0]\n",
    "\n",
    "    # other states\n",
    "    for i in range(1, n_events):\n",
    "        state2event[np.random.choice(range(1, n_states))].append(i)\n",
    "\n",
    "    return state2event"
   ]
  },
  {
   "cell_type": "code",
   "execution_count": 50,
   "metadata": {},
   "outputs": [
    {
     "data": {
      "text/plain": [
       "{0: [0], 1: [1], 2: [2], 3: [3], 4: [4]}"
      ]
     },
     "execution_count": 50,
     "metadata": {},
     "output_type": "execute_result"
    }
   ],
   "source": [
    "# instantiate event from latent state\n",
    "# TODO: use different token seqs to denote different states (tokens may be reused across states, but seqs not), instead of single tokens\n",
    "\n",
    "# instantiation = gen_state2event(n_states, n_events)\n",
    "instantiation = {\n",
    "    0: [0],\n",
    "    1: [1],\n",
    "    2: [2],\n",
    "    3: [3],\n",
    "    4: [4]\n",
    "}\n",
    "instantiation\n",
    "\n",
    "# instantiation = {\n",
    "#     0: [\"/\"],\n",
    "#     1: [\"a\", \"b\", \"c\", \"d\", \"e\", \"f\", \"ab\", \"ac\", \"ad\", \"ae\"],\n",
    "#     2: [\"h\", \"i\", \"j\", \"k\", \"l\", \"m\", \"n\", \"o\", \"p\", \"af\", \"ag\", \"ah\", \"ai\", \"aj\", \"ak\", \"al\"],\n",
    "#     3: [\"q\", \"r\", \"s\", \"t\", \"am\", \"an\", \"ao\", \"ap\", \"aq\"],\n",
    "#     4: [\"u\", \"v\", \"w\", \"x\", \"y\", \"z\", \"ar\", \"as\", \"at\", \"au\", \"av\", \"aw\", \"ax\"]\n",
    "# }"
   ]
  },
  {
   "cell_type": "code",
   "execution_count": 124,
   "metadata": {},
   "outputs": [],
   "source": [
    "import pickle\n",
    "with open(f\"/net/scratch/shangao/latent-concept/data/state2event_T{n_events}.pkl\", \"wb\") as f:\n",
    "    pickle.dump(instantiation, f)"
   ]
  },
  {
   "cell_type": "code",
   "execution_count": 51,
   "metadata": {},
   "outputs": [
    {
     "data": {
      "text/plain": [
       "['/', 'a', 'b', 'c', 'd']"
      ]
     },
     "execution_count": 51,
     "metadata": {},
     "output_type": "execute_result"
    }
   ],
   "source": [
    "# https://github.com/p-lambda/incontext-learning/blob/84fab2141381001e33b5835e01f4fbf37f34a6a5/generate_data.py#L128\n",
    "def letter_generator(num):\n",
    "    counter = 0\n",
    "    for i in range(1, len(ascii_lowercase)):\n",
    "        for perm in permutations(ascii_lowercase, i):\n",
    "            yield ''.join(perm)\n",
    "            counter += 1\n",
    "            if counter >= num:\n",
    "                return\n",
    "            \n",
    "\n",
    "# generate vocab\n",
    "vocab = list(letter_generator(n_events-1))  # excluding end event\n",
    "# replace delimiters with more interpretable tokens\n",
    "vocab = ['/'] + vocab   # end event is indexed as event 0\n",
    "vocab"
   ]
  },
  {
   "cell_type": "code",
   "execution_count": 52,
   "metadata": {},
   "outputs": [],
   "source": [
    "# https://github.com/p-lambda/incontext-learning/blob/84fab2141381001e33b5835e01f4fbf37f34a6a5/generate_data.py#L138\n",
    "def apply_vocab(tokens, vocab):\n",
    "    return [vocab[tok] for tok in tokens]"
   ]
  },
  {
   "cell_type": "markdown",
   "metadata": {},
   "source": [
    "## tokenizer"
   ]
  },
  {
   "cell_type": "code",
   "execution_count": 53,
   "metadata": {},
   "outputs": [],
   "source": [
    "def save_tokenizer_json(vocab, filename):\n",
    "    vocab = list(vocab)\n",
    "    vocab = vocab + ['[endoftext]']  # put [endoftext] last to ensure emb idx matches event idx\n",
    "    vocab_dict = {v: i for i, v in enumerate(vocab)}\n",
    "    tokenizer_config = {\"version\":\"1.0\",\"truncation\": None,\"padding\": None,\"added_tokens\":[{\"id\":0,\"special\":True,\"content\":\"[endoftext]\",\"single_word\":False,\"lstrip\":False,\"rstrip\":False,\"normalized\":False}],\"normalizer\":None,\"pre_tokenizer\":{\"type\":\"Whitespace\"},\"post_processor\":None,\"decoder\":None,\"model\":{\"type\":\"WordLevel\",\"vocab\":vocab_dict,\"unk_token\":\"<unk>\"}}\n",
    "    with open(filename, 'w') as f:\n",
    "        json.dump(tokenizer_config, f)\n",
    "\n",
    "save_tokenizer_json(vocab, f'/net/scratch/shangao/latent-concept/data/tokenizer_{n_events}.json')"
   ]
  },
  {
   "cell_type": "markdown",
   "metadata": {},
   "source": [
    "## generate obs"
   ]
  },
  {
   "cell_type": "code",
   "execution_count": 54,
   "metadata": {},
   "outputs": [],
   "source": [
    "# generate: concept (transition matrix) >> latent state seq >> instantiate event\n",
    "def gen_obs(concept, end_prob=0.5, sample_length=None):\n",
    "\n",
    "    state_seq = []\n",
    "    event_seq = []\n",
    "\n",
    "    init_state_probs = concept.diagonal()\n",
    "    state_present = init_state_probs > 0\n",
    "    num_states = sum(state_present)\n",
    "\n",
    "    # append a col of end state to the left of concept mtx, with each prob 1/num_states\n",
    "    end_prob_each = (end_prob * state_present / num_states).reshape(-1, 1)  # convert to shape nx1\n",
    "    concept = np.hstack((end_prob_each, concept))  # append to the left of concept mtx\n",
    "\n",
    "    while True:\n",
    "\n",
    "        # randomly select a state accroding to their probs to start chaining\n",
    "        # print(util.normalize(init_state_probs), sum(util.normalize(init_state_probs)))\n",
    "        state_chosen = np.random.choice(len(init_state_probs), p=util.normalize(init_state_probs)) + 1  # states are 1-indexed; 0 denotes end state\n",
    "        state_seq.append(state_chosen)\n",
    "        # instantiate event from state\n",
    "        event_seq.append(np.random.choice(instantiation[state_chosen]))\n",
    "\n",
    "        # generate next states/events\n",
    "        while state_chosen != 0:\n",
    "            if sample_length and len(state_seq) >= sample_length: \n",
    "                return state_seq, event_seq\n",
    "            state_probs = concept[state_chosen-1]\n",
    "            state_probs[state_chosen] = 0  # diag of concept mtx denotes presence of states instead of self-self transition prob\n",
    "            state_chosen = np.random.choice(len(state_probs), p=util.normalize(state_probs))\n",
    "            # print(util.normalize(state_probs), sum(util.normalize(state_probs)))\n",
    "            # print('state_chosen', state_chosen, state_probs)\n",
    "            state_seq.append(state_chosen)\n",
    "            event_seq.append(np.random.choice(instantiation[state_chosen]))\n",
    "        \n",
    "        if (sample_length is None) or (sample_length and len(state_seq) >= sample_length): \n",
    "            return state_seq, event_seq\n",
    "\n",
    "\n",
    "    # return state_seq, event_seq"
   ]
  },
  {
   "cell_type": "code",
   "execution_count": 55,
   "metadata": {},
   "outputs": [
    {
     "data": {
      "text/plain": [
       "([3, 1, 4, 2, 4, 3, 1, 4, 1, 3, 2, 1, 4, 2, 4, 1, 2, 0, 3, 2],\n",
       " [3, 1, 4, 2, 4, 3, 1, 4, 1, 3, 2, 1, 4, 2, 4, 1, 2, 0, 3, 2])"
      ]
     },
     "execution_count": 55,
     "metadata": {},
     "output_type": "execute_result"
    }
   ],
   "source": [
    "# sanity\n",
    "concept_test_gt_thres = concept_test_gt.copy()\n",
    "# concept_test_gt_thres[concept_test_gt_thres < 0.5] = 0\n",
    "gen_obs(concept_test_gt_thres, end_prob=0.3, sample_length=20)"
   ]
  },
  {
   "cell_type": "markdown",
   "metadata": {},
   "source": [
    "### mixture of concepts"
   ]
  },
  {
   "cell_type": "code",
   "execution_count": 56,
   "metadata": {},
   "outputs": [],
   "source": [
    "# sample from the list of concepts with probs_train_gt to gen_obs\n",
    "# https://github.com/p-lambda/incontext-learning/blob/84fab2141381001e33b5835e01f4fbf37f34a6a5/generate_data.py#L319\n",
    "\n",
    "def gen_samples(num_samples, id_concepts, end_prob, random_data, sample_length=1024):\n",
    "\n",
    "    samples = []\n",
    "\n",
    "    for i in tqdm(range(num_samples)):\n",
    "\n",
    "        # randomly select concept to generate obs\n",
    "        j = np.random.choice(len(id_concepts))\n",
    "        # print('j', j)\n",
    "        if not random_data:\n",
    "            h, x = gen_obs(id_concepts[j], end_prob=end_prob, sample_length=sample_length)\n",
    "        \n",
    "        # if generating random_data\n",
    "        else:\n",
    "            h = np.random.randint(low=0, high=n_states, size=sample_length)\n",
    "            x = np.random.randint(low=0, high=len(vocab), size=sample_length)\n",
    "        x = apply_vocab(x, vocab)\n",
    "        samples.append({'text': ' '.join(x), 'concept_idx': j, 'concept_type': 'id', 'hiddens': h})\n",
    "\n",
    "    return samples"
   ]
  },
  {
   "cell_type": "code",
   "execution_count": 153,
   "metadata": {},
   "outputs": [
    {
     "name": "stderr",
     "output_type": "stream",
     "text": [
      "100%|██████████| 500/500 [00:18<00:00, 27.18it/s]\n"
     ]
    },
    {
     "data": {
      "text/plain": [
       "1024"
      ]
     },
     "execution_count": 153,
     "metadata": {},
     "output_type": "execute_result"
    }
   ],
   "source": [
    "# sec = 'train'\n",
    "# num_samples=1000\n",
    "sec = 'val'\n",
    "num_samples=500\n",
    "end_prob=0.3\n",
    "random_data=False\n",
    "# random_data=True\n",
    "sample_length=1024\n",
    "\n",
    "samples = gen_samples(num_samples, concepts, end_prob, random_data, sample_length)\n",
    "len(samples[0]['hiddens'])"
   ]
  },
  {
   "cell_type": "markdown",
   "metadata": {},
   "source": [
    "### aggregated concept"
   ]
  },
  {
   "cell_type": "code",
   "execution_count": 57,
   "metadata": {},
   "outputs": [],
   "source": [
    "def gen_aggregated_samples(num_samples, agg_concepts, end_prob, random_data, sample_length=None):\n",
    "\n",
    "    samples = []\n",
    "\n",
    "    for i in tqdm(range(num_samples)):\n",
    "\n",
    "        if not random_data:\n",
    "            h, x = gen_obs(agg_concepts, end_prob=end_prob, sample_length=sample_length)\n",
    "        \n",
    "        # if generating random_data\n",
    "        else:\n",
    "            h = np.random.randint(low=0, high=n_states, size=sample_length)\n",
    "            x = np.random.randint(low=0, high=len(vocab), size=sample_length)\n",
    "\n",
    "        x = apply_vocab(x, vocab)\n",
    "        samples.append({'text': ' '.join(x), 'concept_probs_gt': probs_test_gt, 'concept_type': 'agg', 'hiddens': h})\n",
    "\n",
    "    return samples"
   ]
  },
  {
   "cell_type": "code",
   "execution_count": 58,
   "metadata": {},
   "outputs": [],
   "source": [
    "def gen_aggregated_prompts(num_samples, agg_concepts, end_prob, random_data, sample_length=20):\n",
    "\n",
    "    samples = []\n",
    "\n",
    "    for i in tqdm(range(num_samples)):\n",
    "\n",
    "        # print('iter', i)\n",
    "\n",
    "        if not random_data:\n",
    "\n",
    "            h, x = gen_obs(agg_concepts, end_prob=end_prob, sample_length=sample_length)\n",
    "\n",
    "            # generate next state label\n",
    "            last_state_chosen = h[-1]\n",
    "            agg_concepts_copy = agg_concepts.copy()  # otherwise agg_concepts will be mutated\n",
    "            init_state_probs = agg_concepts_copy.diagonal()\n",
    "\n",
    "            if last_state_chosen != 0:\n",
    "\n",
    "                # state_probs = agg_concepts_copy[last_state_chosen-1]\n",
    "                # state_probs[last_state_chosen-1] = 0  # diag of concept mtx denotes presence of states instead of self-self transition prob\n",
    "                # test_value_h = np.argmax(util.normalize(state_probs)) + 1  # only state matters, not event\n",
    "\n",
    "                state_present = init_state_probs > 0\n",
    "                num_states = sum(state_present)\n",
    "                # append a col of end state to the left of concept mtx, with each prob 1/num_states\n",
    "                end_prob_each = (end_prob * state_present / num_states).reshape(-1, 1)  # convert to shape nx1\n",
    "                agg_concepts_copy = np.hstack((end_prob_each, agg_concepts_copy))  # append to the left of concept mtx\n",
    "        \n",
    "                state_probs = agg_concepts_copy[last_state_chosen-1]\n",
    "                state_probs[last_state_chosen] = 0  # diag of concept mtx denotes presence of states instead of self-self transition prob\n",
    "                test_value_h = np.argmax(util.normalize(state_probs)) # only state matters, not event\n",
    "\n",
    "                if test_value_h == 0:\n",
    "                    i -= 1\n",
    "                    continue\n",
    "            \n",
    "            else:\n",
    "                test_value_h = np.random.choice(len(init_state_probs), p=util.normalize(init_state_probs)) + 1  # states are 1-indexed; 0 denotes end state\n",
    "\n",
    "                \n",
    "            \n",
    "        # if generating random_data\n",
    "        else:\n",
    "            h = np.random.randint(low=0, high=n_states, size=sample_length)\n",
    "            x = np.random.randint(low=0, high=len(vocab), size=sample_length)\n",
    "            test_value_h = np.random.randint(low=0, high=5)\n",
    "            if test_value_h == 0:\n",
    "                    i -= 1\n",
    "                    continue\n",
    "\n",
    "        x = apply_vocab(x, vocab)\n",
    "\n",
    "        samples.append({'text': ' '.join(x), 'labels': test_value_h, 'x': x, 'concept_probs_gt': probs_test_gt, 'concept_type': 'agg', 'hiddens': h})\n",
    "\n",
    "    return samples"
   ]
  },
  {
   "cell_type": "code",
   "execution_count": 90,
   "metadata": {},
   "outputs": [
    {
     "name": "stdout",
     "output_type": "stream",
     "text": [
      "random\n"
     ]
    },
    {
     "name": "stderr",
     "output_type": "stream",
     "text": [
      "100%|██████████| 500/500 [00:00<00:00, 46796.80it/s]\n"
     ]
    }
   ],
   "source": [
    "# sec = 'agg_train_prompts'\n",
    "# num_samples=1000\n",
    "# sec = f'agg{probs_test_gt}_val_prompts'  # TODO: add probs_test_gt will break load_dataset()\n",
    "# sec = 'agg111_val_prompts_noend'\n",
    "sec = 'rdn_val_prompts_noend'\n",
    "# sec = 'unseen1s_val_prompts_noend'\n",
    "num_samples=500\n",
    "end_prob=0.3\n",
    "# random_data=False\n",
    "random_data=True\n",
    "sample_length=50\n",
    "\n",
    "# samples = gen_aggregated_samples(num_samples, concept_test_gt, end_prob, random_data, sample_length)\n",
    "# len(samples[0]['hiddens'])\n",
    "\n",
    "if not random_data:\n",
    "    print(concept_test_gt)\n",
    "else: \n",
    "    print('random')\n",
    "\n",
    "samples = gen_aggregated_prompts(num_samples, concept_test_gt, end_prob, random_data, sample_length)"
   ]
  },
  {
   "cell_type": "markdown",
   "metadata": {},
   "source": [
    "### save"
   ]
  },
  {
   "cell_type": "code",
   "execution_count": 91,
   "metadata": {},
   "outputs": [],
   "source": [
    "def save_as_json(samples, save_path):\n",
    "    df = pd.DataFrame(samples)\n",
    "    df.to_json(save_path, orient='records', lines=True)\n",
    "\n",
    "def samples_to_raw(samples, out_path):\n",
    "    with open(out_path, 'w') as f:\n",
    "        for sample in samples:\n",
    "            f.write(sample['text'] + ' / ')\n",
    "\n",
    "save_as_json(samples, f'/net/scratch/shangao/latent-concept/data/{sec}_T{n_events}_N{num_samples}_L{sample_length}_E{end_prob}.json')\n",
    "samples_to_raw(samples, f'/net/scratch/shangao/latent-concept/data/{sec}_T{n_events}_N{num_samples}_L{sample_length}_E{end_prob}.txt')"
   ]
  },
  {
   "cell_type": "code",
   "execution_count": null,
   "metadata": {},
   "outputs": [],
   "source": []
  },
  {
   "cell_type": "markdown",
   "metadata": {},
   "source": [
    "## bayesian inf"
   ]
  },
  {
   "cell_type": "code",
   "execution_count": 31,
   "metadata": {},
   "outputs": [],
   "source": [
    "states_obs = [2,1,4,3,1,3,1,4,1,4,1,3,1,3,2,4,2,3,1,3,1,3,1,3,1,3,2,1,3,1,3,1,4,3,2,4,1,2,4,1,4,2,1,4,1,3,1,3,1,4]"
   ]
  },
  {
   "cell_type": "code",
   "execution_count": 32,
   "metadata": {},
   "outputs": [],
   "source": [
    "def compute_posterior(obs, domain, p_concepts):\n",
    "\n",
    "    n_states = domain[0].shape[0]\n",
    "    n_concepts = len(domain)\n",
    "    posteriors = [p_concepts]\n",
    "    density = np.zeros((n_states, n_states))\n",
    "\n",
    "    ## TODO: first state ##\n",
    "    density[obs[0]-1, obs[0]-1] += 1\n",
    "\n",
    "    likelihoods = np.full(n_concepts, np.nan)\n",
    "    for j in range(n_concepts):\n",
    "        concept = concepts[j]\n",
    "        corr = np.corrcoef(density.flatten(), concept.flatten())[0, 1]\n",
    "        likelihood = (corr - (-1)) / 2\n",
    "        likelihoods[j] = likelihood\n",
    "        # print(corr, likelihood)\n",
    "\n",
    "    # update posterior\n",
    "    p_concepts = util.normalize(likelihoods * p_concepts)\n",
    "    posteriors.append(p_concepts)\n",
    "    #####################\n",
    "\n",
    "    for i in range(len(obs)-1):\n",
    "    # for i in range(10-1):\n",
    "\n",
    "        prev = obs[i] - 1\n",
    "        next = obs[i+1] - 1\n",
    "        density[prev, next] += 1\n",
    "        density[next, prev] += 1\n",
    "\n",
    "        likelihoods = np.full(n_concepts, np.nan)\n",
    "        for j in range(n_concepts):\n",
    "            concept = concepts[j]\n",
    "            corr = np.corrcoef(density.flatten(), concept.flatten())[0, 1]\n",
    "            likelihood = (corr - (-1)) / 2\n",
    "            likelihoods[j] = likelihood\n",
    "            # print(corr, likelihood)\n",
    "        \n",
    "        # update posterior\n",
    "        p_concepts = util.normalize(likelihoods * p_concepts)\n",
    "        posteriors.append(p_concepts)\n",
    "\n",
    "    return posteriors"
   ]
  },
  {
   "cell_type": "code",
   "execution_count": 33,
   "metadata": {},
   "outputs": [],
   "source": [
    "def compute_convergence(distrib_pred, distrib_gt):\n",
    "\n",
    "    # if all values are equal, add perturbation to prevent error in corr calculation\n",
    "    if np.all(distrib_pred == distrib_pred[0]):\n",
    "        perturbation = np.random.normal(loc=0, scale=1e-6, size=distrib_pred.shape)\n",
    "        distrib_pred = distrib_pred + perturbation\n",
    "    if np.all(distrib_gt == distrib_gt[0]):\n",
    "        perturbation = np.random.normal(loc=0, scale=1e-6, size=distrib_gt.shape)\n",
    "        distrib_gt = distrib_gt + perturbation\n",
    "    \n",
    "    corr = np.corrcoef(distrib_pred, distrib_gt)[0, 1]\n",
    "\n",
    "    # convert from [-1, 1] to [0, 1]\n",
    "    return (corr - (-1)) / 2"
   ]
  },
  {
   "cell_type": "code",
   "execution_count": 34,
   "metadata": {},
   "outputs": [
    {
     "name": "stdout",
     "output_type": "stream",
     "text": [
      "51\n"
     ]
    },
    {
     "data": {
      "text/plain": [
       "[0.9417600144224302,\n",
       " 0.018193222625176364,\n",
       " 0.021618970220707356,\n",
       " 0.061552790695439785,\n",
       " 0.21545065895609167,\n",
       " 0.34273903351857377,\n",
       " 0.3763776510094439,\n",
       " 0.39764427678262854,\n",
       " 0.48574200223798514,\n",
       " 0.7069271537043212,\n",
       " 0.9333197812006648,\n",
       " 0.991367806255225,\n",
       " 0.9985455626654536,\n",
       " 0.9996929564675027,\n",
       " 0.9999232267034758,\n",
       " 0.9999848544058079,\n",
       " 0.9999966569535879,\n",
       " 0.9999991435620827,\n",
       " 0.9999998310707872,\n",
       " 0.9999999596246938,\n",
       " 0.9999999888039501,\n",
       " 0.9999999965106923,\n",
       " 0.9999999988060706,\n",
       " 0.9999999995592334,\n",
       " 0.9999999998267435,\n",
       " 0.9999999999282208,\n",
       " 0.9999999999689064,\n",
       " 0.999999999987515,\n",
       " 0.9999999999946607,\n",
       " 0.9999999999976215,\n",
       " 0.9999999999989024,\n",
       " 0.9999999999994778,\n",
       " 0.9999999999997448,\n",
       " 0.9999999999998885,\n",
       " 0.9999999999999489,\n",
       " 0.999999999999978,\n",
       " 0.99999999999999,\n",
       " 0.9999999999999958,\n",
       " 0.9999999999999983,\n",
       " 0.9999999999999993,\n",
       " 0.9999999999999998,\n",
       " 1.0,\n",
       " 1.0,\n",
       " 1.0,\n",
       " 1.0,\n",
       " 1.0,\n",
       " 1.0,\n",
       " 1.0,\n",
       " 1.0,\n",
       " 1.0,\n",
       " 1.0]"
      ]
     },
     "execution_count": 34,
     "metadata": {},
     "output_type": "execute_result"
    }
   ],
   "source": [
    "posteriors = compute_posterior(obs=states_obs, domain=concepts, p_concepts=probs_train_gt)\n",
    "print(len(posteriors))\n",
    "\n",
    "accuracys = [compute_convergence(posterior, probs_test_gt) for posterior in posteriors]\n",
    "accuracys"
   ]
  },
  {
   "cell_type": "code",
   "execution_count": 35,
   "metadata": {},
   "outputs": [],
   "source": [
    "import pickle\n",
    "with open(f\"/net/scratch/shangao/latent-concept/outputs_simulation/agg311_bayesian_L{len(states_obs)}.pkl\", \"wb\") as f:\n",
    "    pickle.dump(\n",
    "        {'posteriors': posteriors, 'accuracys': accuracys}\n",
    "        , \n",
    "        f\n",
    "    )"
   ]
  },
  {
   "cell_type": "code",
   "execution_count": null,
   "metadata": {},
   "outputs": [],
   "source": []
  },
  {
   "cell_type": "code",
   "execution_count": 98,
   "metadata": {},
   "outputs": [
    {
     "data": {
      "image/png": "[encoded data removed]",
      "text/plain": [
       "<Figure size 1080x720 with 1 Axes>"
      ]
     },
     "metadata": {
      "needs_background": "light"
     },
     "output_type": "display_data"
    }
   ],
   "source": [
    "import matplotlib.pyplot as plt\n",
    "\n",
    "fig, ax = plt.subplots(figsize=(15, 10))\n",
    "\n",
    "ax.plot(np.arange(1, len(accuracys)), accuracys[1:], marker='.', linestyle='-', color='b', label=f'simulated convergence', linewidth=.5)\n",
    "\n",
    "\n",
    "ax.set_title('Simulated Inferred-GT Prob Distrib Convergence over Time with Bayesian Inference')\n",
    "ax.set_xlabel('Time Steps')\n",
    "ax.set_ylabel('Convergence')\n",
    "# ax.legend()\n",
    "\n",
    "# fig.supxlabel('Sparsity')\n",
    "# plt.tight_layout()\n",
    "plt.show()"
   ]
  },
  {
   "cell_type": "code",
   "execution_count": null,
   "metadata": {},
   "outputs": [],
   "source": []
  }
 ],
 "metadata": {
  "kernelspec": {
   "display_name": "latents",
   "language": "python",
   "name": "python3"
  },
  "language_info": {
   "codemirror_mode": {
    "name": "ipython",
    "version": 3
   },
   "file_extension": ".py",
   "mimetype": "text/x-python",
   "name": "python",
   "nbconvert_exporter": "python",
   "pygments_lexer": "ipython3",
   "version": "3.8.5"
  }
 },
 "nbformat": 4,
 "nbformat_minor": 2
}
